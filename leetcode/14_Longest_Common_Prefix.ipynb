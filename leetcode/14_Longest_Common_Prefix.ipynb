{
 "cells": [
  {
   "cell_type": "code",
   "execution_count": null,
   "id": "2329e719",
   "metadata": {},
   "outputs": [],
   "source": [
    "\"\"\"\n",
    "Write a function to find the longest common prefix string amongst an array of strings.\n",
    "\n",
    "If there is no common prefix, return an empty string \"\".\n",
    "\n",
    "Example 1:\n",
    "\n",
    "Input: strs = [\"flower\",\"flow\",\"flight\"]\n",
    "Output: \"fl\"\n",
    "Example 2:\n",
    "\n",
    "Input: strs = [\"dog\",\"racecar\",\"car\"]\n",
    "Output: \"\"\n",
    "Explanation: There is no common prefix among the input strings.\n",
    "\"\"\""
   ]
  },
  {
   "cell_type": "code",
   "execution_count": 102,
   "id": "5d55de83",
   "metadata": {},
   "outputs": [
    {
     "data": {
      "text/plain": [
       "'a'"
      ]
     },
     "execution_count": 102,
     "metadata": {},
     "output_type": "execute_result"
    }
   ],
   "source": [
    "def longestCommonPrefix(strs):\n",
    "    \n",
    "    # dealing with exception cases like [\",\"], [\"\",\"\"] etc\n",
    "    \n",
    "    alp = ['a', 'b', 'c', 'd', 'e', 'f', 'g', 'h', 'i', 'j', 'k', 'l', 'm',\n",
    "         'n', 'o', 'p', 'q', 'r', 's', 't', 'u', 'v', 'w', 'x', 'y', 'z']\n",
    "    \n",
    "    first_element = list(strs[0])\n",
    "\n",
    "    if len(first_element) == 0:\n",
    "        return ''\n",
    "    \n",
    "    for el in first_element:\n",
    "        if el not in alp:\n",
    "            return ''\n",
    "\n",
    "    if len(strs) == 1 and strs[0] == '':\n",
    "        return ''\n",
    "    \n",
    "    elif len(strs) == 1 and strs[0][0] in alp:\n",
    "        return strs[0]\n",
    "    \n",
    "    # identify minimal in length element in strs list\n",
    "    sorted_list = sorted(strs, key=len)\n",
    "    min_element = sorted_list[0]\n",
    "    # list without minimal element\n",
    "    strs_wo_min = sorted_list[1:]\n",
    "    \n",
    "    result = ''\n",
    "    \n",
    "    for i, letter in enumerate(min_element):\n",
    "        # create list of letters on the same position\n",
    "        ordinal_letters = list(map(lambda x: x[i], strs_wo_min)) + [letter]\n",
    "        # if all letters are the same len of set would be 1, then add to the results\n",
    "        if len(set(ordinal_letters)) == 1:\n",
    "            result += ordinal_letters[0]\n",
    "        else:\n",
    "            if len(result) == 0:\n",
    "                return ''\n",
    "            else:\n",
    "                return result\n",
    "    return result\n",
    "        \n",
    "strs = [\"ab\", \"a\"]\n",
    "\n",
    "longestCommonPrefix(strs=strs)"
   ]
  },
  {
   "cell_type": "code",
   "execution_count": 103,
   "id": "0d90e32a",
   "metadata": {},
   "outputs": [
    {
     "data": {
      "text/plain": [
       "'fl'"
      ]
     },
     "execution_count": 103,
     "metadata": {},
     "output_type": "execute_result"
    }
   ],
   "source": [
    "# optimized solution\n",
    "def longestCommonPrefix(strs):\n",
    "    if not strs: return \"\"\n",
    "\n",
    "    prefix = strs[0]\n",
    "\n",
    "    for string in strs[1:]:\n",
    "        while string[:len(prefix)] != prefix:\n",
    "            prefix = prefix[:-1]\n",
    "            if not prefix: return \"\"\n",
    "    \n",
    "    # Ensure prefix contains only characters from 'a' to 'z'\n",
    "    for char in prefix:\n",
    "        if char < 'a' or char > 'z':\n",
    "            return \"\"\n",
    "\n",
    "    return prefix\n",
    "\n",
    "strs = [\"flower\",\"flow\",\"flight\"]\n",
    "\n",
    "longestCommonPrefix(strs)"
   ]
  }
 ],
 "metadata": {
  "kernelspec": {
   "display_name": "Python 3 (ipykernel)",
   "language": "python",
   "name": "python3"
  },
  "language_info": {
   "codemirror_mode": {
    "name": "ipython",
    "version": 3
   },
   "file_extension": ".py",
   "mimetype": "text/x-python",
   "name": "python",
   "nbconvert_exporter": "python",
   "pygments_lexer": "ipython3",
   "version": "3.9.12"
  }
 },
 "nbformat": 4,
 "nbformat_minor": 5
}
